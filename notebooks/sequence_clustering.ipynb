{
 "cells": [
  {
   "cell_type": "code",
   "execution_count": 22,
   "metadata": {
    "collapsed": true
   },
   "outputs": [],
   "source": [
    "import pandas as pd\n",
    "import numpy as np\n",
    "import pickle\n",
    "from collections import defaultdict\n",
    "\n",
    "from mc import MarkovChain"
   ]
  },
  {
   "cell_type": "code",
   "execution_count": 23,
   "metadata": {
    "collapsed": true
   },
   "outputs": [],
   "source": [
    "def _calculate_markov_chain(sequences, assignment, n_clusters):\n",
    "    markov_chains = [MarkovChain() for _ in range(n_clusters)]\n",
    "    for sequence in sequences:\n",
    "        markov_chains[assignment[tuple(sequence)]].add_sequence(sequence)\n",
    "    return markov_chains\n",
    "                \n",
    "def sequence_clustering(sequences, n_clusters=2):\n",
    "    # http://web.ist.utl.pt/diogo.ferreira/papers/ferreira07approaching.pdf\n",
    "    \n",
    "    # Initialization: we initialize two random markov chains\n",
    "    cluster_initialization = np.random.choice(range(n_clusters), size=len(sequences))\n",
    "    initial_assignment = {}\n",
    "    for i, sequence in enumerate(sequences): \n",
    "        initial_assignment[tuple(sequence)] = cluster_initialization[i]\n",
    "        \n",
    "    markov_chains = _calculate_markov_chain(sequences, initial_assignment, n_clusters)\n",
    "        \n",
    "    # Now until there is (almost) no change:\n",
    "    #     Iterate over all sequences and assign sequence to markov chain with highest likelihood (E)\n",
    "    #     Recalculate the markov chains by using the assigned sequences (M)\n",
    "    prev_assignment = None\n",
    "    assignment = None\n",
    "    while assignment == None or assignment != prev_assignment:\n",
    "        prev_assignment = assignment\n",
    "        assignment = {}\n",
    "        for sequence in sequences:\n",
    "            assignment[tuple(sequence)] = np.argmax([mc.get_probability(sequence) for mc in markov_chains])\n",
    "            \n",
    "        markov_chains = _calculate_markov_chain(sequences, assignment, n_clusters)\n",
    "        \n",
    "    return assignment, markov_chains"
   ]
  },
  {
   "cell_type": "code",
   "execution_count": 29,
   "metadata": {
    "collapsed": false
   },
   "outputs": [],
   "source": [
    "sessions = pickle.load(open('../data/sessions.p', 'rb'))\n",
    "sequences = list(sessions.values()) # we do not care about the user ids\n",
    "clean_sequences = []\n",
    "for user_sequences in sequences:\n",
    "    for seq in user_sequences:\n",
    "        clean_sequences.append([x[0] for x in seq])\n",
    "clustering_assignment, markov_chains = sequence_clustering(clean_sequences)"
   ]
  },
  {
   "cell_type": "code",
   "execution_count": 36,
   "metadata": {
    "collapsed": false
   },
   "outputs": [],
   "source": [
    "pages = list(markov_chains[0].get_transition_matrix().keys()) + ['exit']\n",
    "time_on_pages = {}\n",
    "vectors = []\n",
    "for page in pages:\n",
    "    time_on_pages[page] = 0\n",
    "    vectors.append([page, 0.05])\n",
    "metrics_df = pd.DataFrame(vectors, columns=['page', 'unit_size'])\n",
    "metrics_df = metrics_df.set_index('page')\n",
    "markov_chains[0].to_json(time_on_pages, '../visualization/mc_cluster0.json', metrics_df)\n",
    "markov_chains[1].to_json(time_on_pages, '../visualization/mc_cluster1.json', metrics_df)"
   ]
  },
  {
   "cell_type": "code",
   "execution_count": null,
   "metadata": {
    "collapsed": true
   },
   "outputs": [],
   "source": []
  }
 ],
 "metadata": {
  "kernelspec": {
   "display_name": "Python 3",
   "language": "python",
   "name": "python3"
  },
  "language_info": {
   "codemirror_mode": {
    "name": "ipython",
    "version": 3
   },
   "file_extension": ".py",
   "mimetype": "text/x-python",
   "name": "python",
   "nbconvert_exporter": "python",
   "pygments_lexer": "ipython3",
   "version": "3.6.3"
  }
 },
 "nbformat": 4,
 "nbformat_minor": 2
}

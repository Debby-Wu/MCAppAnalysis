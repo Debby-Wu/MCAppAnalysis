{
 "cells": [
  {
   "cell_type": "code",
   "execution_count": 1,
   "metadata": {
    "collapsed": false
   },
   "outputs": [],
   "source": [
    "import pandas as pd\n",
    "import numpy as np\n",
    "from collections import defaultdict\n",
    "import pickle\n",
    "\n",
    "from mc import MarkovChain"
   ]
  },
  {
   "cell_type": "markdown",
   "metadata": {},
   "source": [
    "# Read raw click data and list of users ids (developers etc removed)"
   ]
  },
  {
   "cell_type": "code",
   "execution_count": 2,
   "metadata": {
    "collapsed": false
   },
   "outputs": [],
   "source": [
    "raw_data = pd.read_csv('../data/raw_data.csv')\n",
    "raw_data['timestamp'] = pd.to_datetime(raw_data['timestamp'].astype(int)*1e6)\n",
    "user_ids = pd.read_csv('../data/filtered_user_ids.csv')"
   ]
  },
  {
   "cell_type": "code",
   "execution_count": 3,
   "metadata": {
    "collapsed": false
   },
   "outputs": [
    {
     "name": "stdout",
     "output_type": "stream",
     "text": [
      "4853\n"
     ]
    },
    {
     "data": {
      "text/html": [
       "<div>\n",
       "<style scoped>\n",
       "    .dataframe tbody tr th:only-of-type {\n",
       "        vertical-align: middle;\n",
       "    }\n",
       "\n",
       "    .dataframe tbody tr th {\n",
       "        vertical-align: top;\n",
       "    }\n",
       "\n",
       "    .dataframe thead th {\n",
       "        text-align: right;\n",
       "    }\n",
       "</style>\n",
       "<table border=\"1\" class=\"dataframe\">\n",
       "  <thead>\n",
       "    <tr style=\"text-align: right;\">\n",
       "      <th></th>\n",
       "      <th>userId</th>\n",
       "      <th>event_type</th>\n",
       "      <th>timestamp</th>\n",
       "      <th>event_target</th>\n",
       "    </tr>\n",
       "  </thead>\n",
       "  <tbody>\n",
       "    <tr>\n",
       "      <th>2121</th>\n",
       "      <td>2BIBN8PbtIRzILF5y973CpwRjCj1</td>\n",
       "      <td>pageview</td>\n",
       "      <td>2017-09-14 14:55:45.113999872</td>\n",
       "      <td>bugreport</td>\n",
       "    </tr>\n",
       "    <tr>\n",
       "      <th>4239</th>\n",
       "      <td>tyV1UFX0VWZoIEU3cxUFrTUswQf1</td>\n",
       "      <td>pageview</td>\n",
       "      <td>2017-09-22 19:34:48.012999936</td>\n",
       "      <td>routes</td>\n",
       "    </tr>\n",
       "    <tr>\n",
       "      <th>76</th>\n",
       "      <td>6z1kJ4cJ92ff5Tl7wEr0wMFkvoH3</td>\n",
       "      <td>pageview</td>\n",
       "      <td>2017-09-01 18:14:09.513999872</td>\n",
       "      <td>routes</td>\n",
       "    </tr>\n",
       "    <tr>\n",
       "      <th>54</th>\n",
       "      <td>cBUljslhysPrydSekqU8pWTx69o2</td>\n",
       "      <td>pageview</td>\n",
       "      <td>2017-09-01 16:41:22.104999936</td>\n",
       "      <td>coach</td>\n",
       "    </tr>\n",
       "    <tr>\n",
       "      <th>2033</th>\n",
       "      <td>f61SusxeqNamahMyofCaytWgMsi2</td>\n",
       "      <td>pageview</td>\n",
       "      <td>2017-09-14 12:04:14.212000000</td>\n",
       "      <td>route</td>\n",
       "    </tr>\n",
       "  </tbody>\n",
       "</table>\n",
       "</div>"
      ],
      "text/plain": [
       "                            userId event_type                     timestamp  \\\n",
       "2121  2BIBN8PbtIRzILF5y973CpwRjCj1   pageview 2017-09-14 14:55:45.113999872   \n",
       "4239  tyV1UFX0VWZoIEU3cxUFrTUswQf1   pageview 2017-09-22 19:34:48.012999936   \n",
       "76    6z1kJ4cJ92ff5Tl7wEr0wMFkvoH3   pageview 2017-09-01 18:14:09.513999872   \n",
       "54    cBUljslhysPrydSekqU8pWTx69o2   pageview 2017-09-01 16:41:22.104999936   \n",
       "2033  f61SusxeqNamahMyofCaytWgMsi2   pageview 2017-09-14 12:04:14.212000000   \n",
       "\n",
       "     event_target  \n",
       "2121    bugreport  \n",
       "4239       routes  \n",
       "76         routes  \n",
       "54          coach  \n",
       "2033        route  "
      ]
     },
     "execution_count": 3,
     "metadata": {},
     "output_type": "execute_result"
    }
   ],
   "source": [
    "print(len(raw_data))\n",
    "raw_data.sample(5)"
   ]
  },
  {
   "cell_type": "markdown",
   "metadata": {},
   "source": [
    "# Filter out all user with id in the provided list"
   ]
  },
  {
   "cell_type": "code",
   "execution_count": 4,
   "metadata": {
    "collapsed": true
   },
   "outputs": [],
   "source": [
    "raw_data = raw_data[raw_data['userId'].isin(user_ids['user id'])]"
   ]
  },
  {
   "cell_type": "code",
   "execution_count": 5,
   "metadata": {
    "collapsed": false
   },
   "outputs": [
    {
     "name": "stdout",
     "output_type": "stream",
     "text": [
      "4395\n"
     ]
    }
   ],
   "source": [
    "print(len(raw_data))"
   ]
  },
  {
   "cell_type": "markdown",
   "metadata": {},
   "source": [
    "# Create the markov chain by segmenting different sessions from the raw data"
   ]
  },
  {
   "cell_type": "code",
   "execution_count": 6,
   "metadata": {
    "collapsed": false
   },
   "outputs": [],
   "source": [
    "markov_chain = MarkovChain()\n",
    "sessions_per_user = defaultdict(list)\n",
    "SESSION_SECONDS = 20*60\n",
    "for user in np.unique(raw_data['userId']):\n",
    "    # Filtered all logs from a specific user from the raw data\n",
    "    user_logs = raw_data[raw_data['userId'] == user]\n",
    "    # Sort it by timestamp\n",
    "    user_logs = user_logs.sort_values(by='timestamp').reset_index(drop=True)\n",
    "    current_session = []\n",
    "    for i in range(len(user_logs) - 1):\n",
    "        current_session.append((user_logs.iloc[i, :]['event_target'], user_logs.iloc[i, :]['timestamp']))\n",
    "        time_diff = user_logs.iloc[i+1, :]['timestamp'] - user_logs.iloc[i, :]['timestamp']\n",
    "        # If it takes longer than SESSION SECONDS between two actions (i and i+1), they are considered from two \n",
    "        # sessions, IF the the target of (i+1) is equal to coach (the start page) or when action (i) is not equal\n",
    "        # to track (in which case, they are tracking a route while cycling, which can take a lot of time)\n",
    "        if (time_diff.total_seconds() >= SESSION_SECONDS \n",
    "            and user_logs.iloc[i+1, :]['event_target'] == 'coach' and user_logs.iloc[i, :]['event_target'] != 'track'):\n",
    "            # Append the two surrogate states\n",
    "            current_session[0] = ('start', current_session[0][1])\n",
    "            current_session.append(('exit', current_session[-1][1]))\n",
    "            markov_chain.add_sequence([x[0] for x in current_session])\n",
    "            sessions_per_user[user].append(current_session)\n",
    "            current_session = []"
   ]
  },
  {
   "cell_type": "markdown",
   "metadata": {},
   "source": [
    "# Generate different metrics (such as #unique page views, time on page and pagerank)"
   ]
  },
  {
   "cell_type": "code",
   "execution_count": 7,
   "metadata": {
    "collapsed": false
   },
   "outputs": [],
   "source": [
    "time_on_pages = defaultdict(list)\n",
    "unique_page_views = defaultdict(int)\n",
    "page_views = defaultdict(int)\n",
    "for user in sessions_per_user:\n",
    "    for session in sessions_per_user[user]:\n",
    "        unique_views = defaultdict(lambda: False)\n",
    "        for i in range(len(session) - 2):\n",
    "            unique_views[session[i][0]] = True\n",
    "            time_on_pages[session[i][0]].append((session[i+1][1] - session[i][1]).total_seconds())\n",
    "            page_views[session[i][0]] += 1\n",
    "        unique_views[session[-2][0]] = True\n",
    "        unique_views[session[-1][0]] = True\n",
    "        page_views[session[-2][0]] += 1\n",
    "        page_views[session[-1][0]] += 1\n",
    "        for page in unique_views:\n",
    "            if unique_views[page]:\n",
    "                unique_page_views[page] += 1\n",
    "                \n",
    "for page in time_on_pages:\n",
    "    time_on_pages[page] = np.sqrt(np.mean(time_on_pages[page]))\n",
    "time_on_pages['exit'] = 0"
   ]
  },
  {
   "cell_type": "code",
   "execution_count": 8,
   "metadata": {
    "collapsed": false
   },
   "outputs": [],
   "source": [
    "# Use networkx for PageRank calculation \n",
    "import networkx as nx\n",
    "\n",
    "g = nx.DiGraph()\n",
    "transition_matrix = markov_chain.get_transition_matrix()\n",
    "for from_page in transition_matrix:\n",
    "    for to_page in transition_matrix:\n",
    "        g.add_edge(from_page, to_page, weight=transition_matrix[from_page][to_page])\n",
    "        \n",
    "pageranks = nx.pagerank(g)\n",
    "pageranks['exit'] = 0"
   ]
  },
  {
   "cell_type": "code",
   "execution_count": 9,
   "metadata": {
    "collapsed": false
   },
   "outputs": [
    {
     "data": {
      "text/html": [
       "<div>\n",
       "<style scoped>\n",
       "    .dataframe tbody tr th:only-of-type {\n",
       "        vertical-align: middle;\n",
       "    }\n",
       "\n",
       "    .dataframe tbody tr th {\n",
       "        vertical-align: top;\n",
       "    }\n",
       "\n",
       "    .dataframe thead th {\n",
       "        text-align: right;\n",
       "    }\n",
       "</style>\n",
       "<table border=\"1\" class=\"dataframe\">\n",
       "  <thead>\n",
       "    <tr style=\"text-align: right;\">\n",
       "      <th></th>\n",
       "      <th>pageviews</th>\n",
       "      <th>unique_pageviews</th>\n",
       "      <th>pagerank</th>\n",
       "    </tr>\n",
       "    <tr>\n",
       "      <th>page</th>\n",
       "      <th></th>\n",
       "      <th></th>\n",
       "      <th></th>\n",
       "    </tr>\n",
       "  </thead>\n",
       "  <tbody>\n",
       "    <tr>\n",
       "      <th>team</th>\n",
       "      <td>0.111923</td>\n",
       "      <td>0.117689</td>\n",
       "      <td>0.124534</td>\n",
       "    </tr>\n",
       "    <tr>\n",
       "      <th>bugreport</th>\n",
       "      <td>0.012111</td>\n",
       "      <td>0.012407</td>\n",
       "      <td>0.031835</td>\n",
       "    </tr>\n",
       "    <tr>\n",
       "      <th>routes</th>\n",
       "      <td>0.110461</td>\n",
       "      <td>0.058844</td>\n",
       "      <td>0.143367</td>\n",
       "    </tr>\n",
       "    <tr>\n",
       "      <th>start</th>\n",
       "      <td>0.106912</td>\n",
       "      <td>0.181496</td>\n",
       "      <td>0.015000</td>\n",
       "    </tr>\n",
       "    <tr>\n",
       "      <th>exit</th>\n",
       "      <td>0.106912</td>\n",
       "      <td>0.181496</td>\n",
       "      <td>0.000000</td>\n",
       "    </tr>\n",
       "  </tbody>\n",
       "</table>\n",
       "</div>"
      ],
      "text/plain": [
       "           pageviews  unique_pageviews  pagerank\n",
       "page                                            \n",
       "team        0.111923          0.117689  0.124534\n",
       "bugreport   0.012111          0.012407  0.031835\n",
       "routes      0.110461          0.058844  0.143367\n",
       "start       0.106912          0.181496  0.015000\n",
       "exit        0.106912          0.181496  0.000000"
      ]
     },
     "execution_count": 9,
     "metadata": {},
     "output_type": "execute_result"
    }
   ],
   "source": [
    "vectors = []\n",
    "for page in list(markov_chain.get_transition_matrix().keys()) + ['exit']:\n",
    "    vectors.append([page, page_views[page], unique_page_views[page], pageranks[page]])\n",
    "metrics_df = pd.DataFrame(vectors, columns=['page', 'pageviews', 'unique_pageviews', 'pagerank'])\n",
    "metrics_df = metrics_df.set_index('page')\n",
    "metrics_df['pageviews'] /= metrics_df['pageviews'].sum()\n",
    "metrics_df['unique_pageviews'] /= metrics_df['unique_pageviews'].sum()\n",
    "metrics_df.sample(5)"
   ]
  },
  {
   "cell_type": "markdown",
   "metadata": {},
   "source": [
    "# Serialize the Markov Chain in JSON, such that it can be used by D3.js"
   ]
  },
  {
   "cell_type": "code",
   "execution_count": 10,
   "metadata": {
    "collapsed": false
   },
   "outputs": [],
   "source": [
    "json_data = markov_chain.to_json(time_on_pages, '../visualization/visualization_data.json', metrics_df)"
   ]
  },
  {
   "cell_type": "code",
   "execution_count": null,
   "metadata": {
    "collapsed": true
   },
   "outputs": [],
   "source": []
  }
 ],
 "metadata": {
  "kernelspec": {
   "display_name": "Python 3",
   "language": "python",
   "name": "python3"
  },
  "language_info": {
   "codemirror_mode": {
    "name": "ipython",
    "version": 3
   },
   "file_extension": ".py",
   "mimetype": "text/x-python",
   "name": "python",
   "nbconvert_exporter": "python",
   "pygments_lexer": "ipython3",
   "version": "3.6.3"
  }
 },
 "nbformat": 4,
 "nbformat_minor": 2
}

{
 "cells": [
  {
   "cell_type": "code",
   "execution_count": 1,
   "metadata": {},
   "outputs": [],
   "source": [
    "import pandas as pd\n",
    "import numpy as np\n",
    "from collections import defaultdict\n",
    "import pickle\n",
    "\n",
    "from mc import MarkovChain"
   ]
  },
  {
   "cell_type": "markdown",
   "metadata": {},
   "source": [
    "# Read raw click data and list of users ids (developers etc removed)"
   ]
  },
  {
   "cell_type": "code",
   "execution_count": 2,
   "metadata": {},
   "outputs": [],
   "source": [
    "raw_data = pd.read_csv('../data/raw_data.csv')\n",
    "raw_data['timestamp'] = pd.to_datetime(raw_data['timestamp'].astype(int)*1e6)\n",
    "user_ids = pd.read_csv('../data/filtered_user_ids.csv')"
   ]
  },
  {
   "cell_type": "code",
   "execution_count": 3,
   "metadata": {},
   "outputs": [
    {
     "name": "stdout",
     "output_type": "stream",
     "text": [
      "4853\n"
     ]
    },
    {
     "data": {
      "text/html": [
       "<div>\n",
       "<style scoped>\n",
       "    .dataframe tbody tr th:only-of-type {\n",
       "        vertical-align: middle;\n",
       "    }\n",
       "\n",
       "    .dataframe tbody tr th {\n",
       "        vertical-align: top;\n",
       "    }\n",
       "\n",
       "    .dataframe thead th {\n",
       "        text-align: right;\n",
       "    }\n",
       "</style>\n",
       "<table border=\"1\" class=\"dataframe\">\n",
       "  <thead>\n",
       "    <tr style=\"text-align: right;\">\n",
       "      <th></th>\n",
       "      <th>userId</th>\n",
       "      <th>event_type</th>\n",
       "      <th>timestamp</th>\n",
       "      <th>event_target</th>\n",
       "    </tr>\n",
       "  </thead>\n",
       "  <tbody>\n",
       "    <tr>\n",
       "      <th>768</th>\n",
       "      <td>MgR266qmCCRe5u26SHUpdMkSSvE3</td>\n",
       "      <td>pageview</td>\n",
       "      <td>2017-09-07 18:11:52.511000064</td>\n",
       "      <td>personal</td>\n",
       "    </tr>\n",
       "    <tr>\n",
       "      <th>1339</th>\n",
       "      <td>undefined</td>\n",
       "      <td>pageview</td>\n",
       "      <td>2017-09-11 15:59:57.521999872</td>\n",
       "      <td>team</td>\n",
       "    </tr>\n",
       "    <tr>\n",
       "      <th>1132</th>\n",
       "      <td>zwDvjrxbwXR6wQrcgsbDuxkjpsc2</td>\n",
       "      <td>pageview</td>\n",
       "      <td>2017-09-10 16:37:23.993999872</td>\n",
       "      <td>route</td>\n",
       "    </tr>\n",
       "    <tr>\n",
       "      <th>2678</th>\n",
       "      <td>fTxD7yHvsGgHyJzpC2oexLpWsmh1</td>\n",
       "      <td>pageview</td>\n",
       "      <td>2017-09-15 21:07:38.584999936</td>\n",
       "      <td>track</td>\n",
       "    </tr>\n",
       "    <tr>\n",
       "      <th>4335</th>\n",
       "      <td>tyV1UFX0VWZoIEU3cxUFrTUswQf1</td>\n",
       "      <td>pageview</td>\n",
       "      <td>2017-09-23 10:03:05.776000000</td>\n",
       "      <td>route</td>\n",
       "    </tr>\n",
       "  </tbody>\n",
       "</table>\n",
       "</div>"
      ],
      "text/plain": [
       "                            userId event_type                     timestamp  \\\n",
       "768   MgR266qmCCRe5u26SHUpdMkSSvE3   pageview 2017-09-07 18:11:52.511000064   \n",
       "1339                     undefined   pageview 2017-09-11 15:59:57.521999872   \n",
       "1132  zwDvjrxbwXR6wQrcgsbDuxkjpsc2   pageview 2017-09-10 16:37:23.993999872   \n",
       "2678  fTxD7yHvsGgHyJzpC2oexLpWsmh1   pageview 2017-09-15 21:07:38.584999936   \n",
       "4335  tyV1UFX0VWZoIEU3cxUFrTUswQf1   pageview 2017-09-23 10:03:05.776000000   \n",
       "\n",
       "     event_target  \n",
       "768      personal  \n",
       "1339         team  \n",
       "1132        route  \n",
       "2678        track  \n",
       "4335        route  "
      ]
     },
     "execution_count": 3,
     "metadata": {},
     "output_type": "execute_result"
    }
   ],
   "source": [
    "print(len(raw_data))\n",
    "raw_data.sample(5)"
   ]
  },
  {
   "cell_type": "markdown",
   "metadata": {},
   "source": [
    "# Filter out all user with id in the provided list"
   ]
  },
  {
   "cell_type": "code",
   "execution_count": 4,
   "metadata": {},
   "outputs": [],
   "source": [
    "raw_data = raw_data[raw_data['userId'].isin(user_ids['user id'])]"
   ]
  },
  {
   "cell_type": "code",
   "execution_count": 5,
   "metadata": {},
   "outputs": [
    {
     "name": "stdout",
     "output_type": "stream",
     "text": [
      "4395\n"
     ]
    }
   ],
   "source": [
    "print(len(raw_data))"
   ]
  },
  {
   "cell_type": "markdown",
   "metadata": {},
   "source": [
    "# Create the markov chain by segmenting different sessions from the raw data"
   ]
  },
  {
   "cell_type": "code",
   "execution_count": 16,
   "metadata": {},
   "outputs": [
    {
     "name": "stdout",
     "output_type": "stream",
     "text": [
      "defaultdict(<function MarkovChain.get_transition_matrix.<locals>.<lambda> at 0x7f28d3fe4400>, {'start': defaultdict(<class 'int'>, {'personal': 0.08273381294964029, 'team': 0.22302158273381295, 'competition': 0.25719424460431656, 'exit': 0.1672661870503597, 'track': 0.20323741007194246, 'coach': 0.02697841726618705, 'bugreport': 0.0035971223021582736, 'badges': 0.014388489208633094, 'routes': 0.019784172661870502, 'route': 0.0017985611510791368}), 'personal': defaultdict(<class 'int'>, {'competition': 0.03745318352059925, 'bugreport': 0.20973782771535582, 'team': 0.13108614232209737, 'coach': 0.25842696629213485, 'track': 0.08614232209737828, 'exit': 0.19101123595505617, 'routes': 0.08239700374531835, 'route': 0.003745318352059925}), 'competition': defaultdict(<class 'int'>, {'coach': 0.2937062937062937, 'personal': 0.05244755244755245, 'exit': 0.17132867132867133, 'track': 0.05419580419580419, 'team': 0.24125874125874125, 'badges': 0.045454545454545456, 'competition': 0.04195804195804196, 'routes': 0.09265734265734266, 'route': 0.006993006993006993}), 'coach': defaultdict(<class 'int'>, {'team': 0.19763513513513514, 'track': 0.22466216216216217, 'badges': 0.03547297297297297, 'competition': 0.22466216216216217, 'personal': 0.0945945945945946, 'exit': 0.13175675675675674, 'routes': 0.06925675675675676, 'route': 0.006756756756756757, 'coach': 0.015202702702702704}), 'team': defaultdict(<class 'int'>, {'coach': 0.08582089552238806, 'routes': 0.11007462686567164, 'competition': 0.3880597014925373, 'personal': 0.08208955223880597, 'exit': 0.2126865671641791, 'team': 0.013059701492537313, 'badges': 0.03917910447761194, 'track': 0.06716417910447761, 'route': 0.0018656716417910447}), 'routes': defaultdict(<class 'int'>, {'coach': 0.0661625708884688, 'route': 0.6616257088846881, 'badges': 0.06427221172022685, 'track': 0.035916824196597356, 'routes': 0.007561436672967864, 'competition': 0.02835538752362949, 'personal': 0.02835538752362949, 'team': 0.04725897920604915, 'exit': 0.06049149338374291}), 'track': defaultdict(<class 'int'>, {'coach': 0.3033932135728543, 'route': 0.36926147704590817, 'track': 0.027944111776447105, 'team': 0.1317365269461078, 'competition': 0.033932135728542916, 'personal': 0.059880239520958084, 'badges': 0.007984031936127744, 'routes': 0.0658682634730539}), 'badges': defaultdict(<class 'int'>, {'competition': 0.1092436974789916, 'exit': 0.2773109243697479, 'team': 0.11764705882352941, 'badges': 0.04201680672268908, 'track': 0.09243697478991597, 'coach': 0.23529411764705882, 'routes': 0.08403361344537816, 'personal': 0.04201680672268908}), 'bugreport': defaultdict(<class 'int'>, {'personal': 0.3103448275862069, 'team': 0.1206896551724138, 'competition': 0.08620689655172414, 'exit': 0.13793103448275862, 'track': 0.22413793103448276, 'coach': 0.06896551724137931, 'routes': 0.05172413793103448}), 'route': defaultdict(<class 'int'>, {'coach': 0.1206581352833638, 'track': 0.19744058500914077, 'routes': 0.5356489945155393, 'route': 0.0018281535648994515, 'exit': 0.08957952468007313, 'personal': 0.04204753199268738, 'competition': 0.007312614259597806, 'team': 0.005484460694698354})})\n"
     ]
    }
   ],
   "source": [
    "markov_chain = MarkovChain()\n",
    "sessions_per_user = defaultdict(list)\n",
    "SESSION_SECONDS = 20*60\n",
    "sessions_vectors = []\n",
    "sessions_cntr = 0\n",
    "for user in np.unique(raw_data['userId']):\n",
    "    # Filtered all logs from a specific user from the raw data\n",
    "    user_logs = raw_data[raw_data['userId'] == user]\n",
    "    # Sort it by timestamp\n",
    "    user_logs = user_logs.sort_values(by='timestamp').reset_index(drop=True)\n",
    "    current_session = []\n",
    "    for i in range(len(user_logs) - 1):\n",
    "        current_session.append((user_logs.iloc[i, :]['event_target'], user_logs.iloc[i, :]['timestamp']))\n",
    "        time_diff = user_logs.iloc[i+1, :]['timestamp'] - user_logs.iloc[i, :]['timestamp']\n",
    "        # If it takes longer than SESSION SECONDS between two actions (i and i+1), they are considered from two \n",
    "        # sessions, IF the the target of (i+1) is equal to coach (the start page) or when action (i) is not equal\n",
    "        # to track (in which case, they are tracking a route while cycling, which can take a lot of time)\n",
    "        if (time_diff.total_seconds() >= SESSION_SECONDS \n",
    "            and user_logs.iloc[i+1, :]['event_target'] == 'coach' and user_logs.iloc[i, :]['event_target'] != 'track'):\n",
    "            if len(current_session) == 1:\n",
    "                sessions_vectors.append([current_session[0][0], np.NaN, \n",
    "                                         sessions_cntr, current_session[0][1]])\n",
    "            else:\n",
    "                for k in range(len(current_session) - 1):\n",
    "                    sessions_vectors.append([current_session[k][0], current_session[k + 1][0], \n",
    "                                             sessions_cntr, current_session[k][1]])\n",
    "            sessions_cntr += 1\n",
    "            # Append the two surrogate states\n",
    "            current_session[0] = ('start', current_session[0][1])\n",
    "            current_session.append(('exit', current_session[-1][1]))\n",
    "            markov_chain.add_sequence([x[0] for x in current_session])\n",
    "            sessions_per_user[user].append(current_session)\n",
    "            current_session = []\n",
    "pickle.dump(sessions_per_user, open('../data/sessions.p', 'wb'))\n",
    "sessions_df = pd.DataFrame(sessions_vectors)\n",
    "sessions_df.columns = ['from', 'to', 'session_id', 'timestamp']\n",
    "sessions_df.to_csv('../data/actions.csv', index=False)\n",
    "print(markov_chain.get_transition_matrix())"
   ]
  },
  {
   "cell_type": "code",
   "execution_count": 12,
   "metadata": {},
   "outputs": [
    {
     "data": {
      "text/plain": [
       "0.15234375"
      ]
     },
     "execution_count": 12,
     "metadata": {},
     "output_type": "execute_result"
    }
   ],
   "source": [
    "total = 0\n",
    "exit_cnt = 0\n",
    "for user in sessions_per_user:\n",
    "    for session in sessions_per_user[user]:\n",
    "        total += 1\n",
    "        exit_cnt += session[1][0] == 'exit'\n",
    "exit_cnt / total"
   ]
  },
  {
   "cell_type": "markdown",
   "metadata": {},
   "source": [
    "# Generate different metrics (such as #unique page views, time on page and pagerank)"
   ]
  },
  {
   "cell_type": "code",
   "execution_count": 7,
   "metadata": {},
   "outputs": [],
   "source": [
    "time_on_pages = defaultdict(list)\n",
    "unique_page_views = defaultdict(int)\n",
    "page_views = defaultdict(int)\n",
    "for user in sessions_per_user:\n",
    "    for session in sessions_per_user[user]:\n",
    "        unique_views = defaultdict(lambda: False)\n",
    "        for i in range(len(session) - 2):\n",
    "            unique_views[session[i][0]] = True\n",
    "            time_on_pages[session[i][0]].append((session[i+1][1] - session[i][1]).total_seconds())\n",
    "            page_views[session[i][0]] += 1\n",
    "        unique_views[session[-2][0]] = True\n",
    "        unique_views[session[-1][0]] = True\n",
    "        page_views[session[-2][0]] += 1\n",
    "        page_views[session[-1][0]] += 1\n",
    "        for page in unique_views:\n",
    "            if unique_views[page]:\n",
    "                unique_page_views[page] += 1\n",
    "                \n",
    "for page in time_on_pages:\n",
    "    time_on_pages[page] = np.sqrt(np.mean(time_on_pages[page]))\n",
    "time_on_pages['exit'] = 0"
   ]
  },
  {
   "cell_type": "code",
   "execution_count": 8,
   "metadata": {},
   "outputs": [],
   "source": [
    "# Use networkx for PageRank calculation \n",
    "import networkx as nx\n",
    "\n",
    "g = nx.DiGraph()\n",
    "transition_matrix = markov_chain.get_transition_matrix()\n",
    "for from_page in transition_matrix:\n",
    "    for to_page in transition_matrix:\n",
    "        g.add_edge(from_page, to_page, weight=transition_matrix[from_page][to_page])\n",
    "        \n",
    "pageranks = nx.pagerank(g)\n",
    "pageranks['exit'] = 0"
   ]
  },
  {
   "cell_type": "code",
   "execution_count": 9,
   "metadata": {},
   "outputs": [
    {
     "data": {
      "text/html": [
       "<div>\n",
       "<style scoped>\n",
       "    .dataframe tbody tr th:only-of-type {\n",
       "        vertical-align: middle;\n",
       "    }\n",
       "\n",
       "    .dataframe tbody tr th {\n",
       "        vertical-align: top;\n",
       "    }\n",
       "\n",
       "    .dataframe thead th {\n",
       "        text-align: right;\n",
       "    }\n",
       "</style>\n",
       "<table border=\"1\" class=\"dataframe\">\n",
       "  <thead>\n",
       "    <tr style=\"text-align: right;\">\n",
       "      <th></th>\n",
       "      <th>pageviews</th>\n",
       "      <th>unique_pageviews</th>\n",
       "      <th>pagerank</th>\n",
       "    </tr>\n",
       "    <tr>\n",
       "      <th>page</th>\n",
       "      <th></th>\n",
       "      <th></th>\n",
       "      <th></th>\n",
       "    </tr>\n",
       "  </thead>\n",
       "  <tbody>\n",
       "    <tr>\n",
       "      <th>track</th>\n",
       "      <td>0.104615</td>\n",
       "      <td>0.070897</td>\n",
       "      <td>0.121387</td>\n",
       "    </tr>\n",
       "    <tr>\n",
       "      <th>routes</th>\n",
       "      <td>0.110461</td>\n",
       "      <td>0.058844</td>\n",
       "      <td>0.143367</td>\n",
       "    </tr>\n",
       "    <tr>\n",
       "      <th>route</th>\n",
       "      <td>0.114220</td>\n",
       "      <td>0.072315</td>\n",
       "      <td>0.141524</td>\n",
       "    </tr>\n",
       "    <tr>\n",
       "      <th>badges</th>\n",
       "      <td>0.024849</td>\n",
       "      <td>0.037575</td>\n",
       "      <td>0.043418</td>\n",
       "    </tr>\n",
       "    <tr>\n",
       "      <th>personal</th>\n",
       "      <td>0.055753</td>\n",
       "      <td>0.055300</td>\n",
       "      <td>0.076483</td>\n",
       "    </tr>\n",
       "  </tbody>\n",
       "</table>\n",
       "</div>"
      ],
      "text/plain": [
       "          pageviews  unique_pageviews  pagerank\n",
       "page                                           \n",
       "track      0.104615          0.070897  0.121387\n",
       "routes     0.110461          0.058844  0.143367\n",
       "route      0.114220          0.072315  0.141524\n",
       "badges     0.024849          0.037575  0.043418\n",
       "personal   0.055753          0.055300  0.076483"
      ]
     },
     "execution_count": 9,
     "metadata": {},
     "output_type": "execute_result"
    }
   ],
   "source": [
    "vectors = []\n",
    "for page in list(markov_chain.get_transition_matrix().keys()) + ['exit']:\n",
    "    vectors.append([page, page_views[page], unique_page_views[page], pageranks[page]])\n",
    "metrics_df = pd.DataFrame(vectors, columns=['page', 'pageviews', 'unique_pageviews', 'pagerank'])\n",
    "metrics_df = metrics_df.set_index('page')\n",
    "metrics_df['pageviews'] /= metrics_df['pageviews'].sum()\n",
    "metrics_df['unique_pageviews'] /= metrics_df['unique_pageviews'].sum()\n",
    "metrics_df.sample(5)"
   ]
  },
  {
   "cell_type": "markdown",
   "metadata": {},
   "source": [
    "# Serialize the Markov Chain in JSON, such that it can be used by D3.js"
   ]
  },
  {
   "cell_type": "code",
   "execution_count": 10,
   "metadata": {},
   "outputs": [],
   "source": [
    "json_data = markov_chain.to_json(time_on_pages, '../visualization/visualization_data.json', metrics_df)"
   ]
  },
  {
   "cell_type": "code",
   "execution_count": null,
   "metadata": {
    "collapsed": true
   },
   "outputs": [],
   "source": []
  }
 ],
 "metadata": {
  "kernelspec": {
   "display_name": "Python 3",
   "language": "python",
   "name": "python3"
  },
  "language_info": {
   "codemirror_mode": {
    "name": "ipython",
    "version": 3
   },
   "file_extension": ".py",
   "mimetype": "text/x-python",
   "name": "python",
   "nbconvert_exporter": "python",
   "pygments_lexer": "ipython3",
   "version": "3.6.5"
  }
 },
 "nbformat": 4,
 "nbformat_minor": 2
}
